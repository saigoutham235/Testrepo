{
 "cells": [
  {
   "cell_type": "code",
   "execution_count": 1,
   "id": "22f31d10",
   "metadata": {},
   "outputs": [
    {
     "name": "stderr",
     "output_type": "stream",
     "text": [
      "M:\\SOftwares\\Anaconda\\envs\\Dristia\\lib\\site-packages\\numpy\\_distributor_init.py:30: UserWarning: loaded more than 1 DLL from .libs:\n",
      "M:\\SOftwares\\Anaconda\\envs\\Dristia\\lib\\site-packages\\numpy\\.libs\\libopenblas.GK7GX5KEQ4F6UYO3P26ULGBQYHGQO7J4.gfortran-win_amd64.dll\n",
      "M:\\SOftwares\\Anaconda\\envs\\Dristia\\lib\\site-packages\\numpy\\.libs\\libopenblas.PYQHXLVVQ7VESDPUVUADXEVJOBGHJPAY.gfortran-win_amd64.dll\n",
      "  warnings.warn(\"loaded more than 1 DLL from .libs:\\n%s\" %\n"
     ]
    }
   ],
   "source": [
    "import pandas as pd\n",
    "import matplotlib.pyplot as plt\n",
    "import datetime as dt\n",
    "import random"
   ]
  },
  {
   "cell_type": "code",
   "execution_count": 2,
   "id": "e0d7be23",
   "metadata": {},
   "outputs": [],
   "source": [
    "data=pd.read_excel('K:\\DATASETS\\Turbinepowerdata.xlsx',header=6)"
   ]
  },
  {
   "cell_type": "code",
   "execution_count": 3,
   "id": "167ee1b2",
   "metadata": {},
   "outputs": [
    {
     "data": {
      "text/plain": [
       "Index(['time', 'power_turbine1', 'power_turbine2', 'power_turbine3'], dtype='object')"
      ]
     },
     "execution_count": 3,
     "metadata": {},
     "output_type": "execute_result"
    }
   ],
   "source": [
    "data.columns"
   ]
  },
  {
   "cell_type": "code",
   "execution_count": 4,
   "id": "3fadf6cc",
   "metadata": {},
   "outputs": [
    {
     "data": {
      "text/plain": [
       "(26633, 4)"
      ]
     },
     "execution_count": 4,
     "metadata": {},
     "output_type": "execute_result"
    }
   ],
   "source": [
    "data.shape"
   ]
  },
  {
   "cell_type": "code",
   "execution_count": 5,
   "id": "7327ba70",
   "metadata": {},
   "outputs": [
    {
     "data": {
      "text/plain": [
       "<matplotlib.collections.PathCollection at 0x1daab2f2fd0>"
      ]
     },
     "execution_count": 5,
     "metadata": {},
     "output_type": "execute_result"
    },
    {
     "data": {
      "image/png": "[encoded data removed]",
      "text/plain": [
       "<Figure size 432x288 with 1 Axes>"
      ]
     },
     "metadata": {
      "needs_background": "light"
     },
     "output_type": "display_data"
    }
   ],
   "source": [
    "plt.scatter(data.time,data.power_turbine3)"
   ]
  },
  {
   "cell_type": "code",
   "execution_count": 6,
   "id": "b78c21d7",
   "metadata": {},
   "outputs": [
    {
     "data": {
      "text/html": [
       "<div>\n",
       "<style scoped>\n",
       "    .dataframe tbody tr th:only-of-type {\n",
       "        vertical-align: middle;\n",
       "    }\n",
       "\n",
       "    .dataframe tbody tr th {\n",
       "        vertical-align: top;\n",
       "    }\n",
       "\n",
       "    .dataframe thead th {\n",
       "        text-align: right;\n",
       "    }\n",
       "</style>\n",
       "<table border=\"1\" class=\"dataframe\">\n",
       "  <thead>\n",
       "    <tr style=\"text-align: right;\">\n",
       "      <th></th>\n",
       "      <th>power_turbine2</th>\n",
       "      <th>power_turbine3</th>\n",
       "    </tr>\n",
       "  </thead>\n",
       "  <tbody>\n",
       "    <tr>\n",
       "      <th>count</th>\n",
       "      <td>26577.000000</td>\n",
       "      <td>26633.000000</td>\n",
       "    </tr>\n",
       "    <tr>\n",
       "      <th>mean</th>\n",
       "      <td>5014.110359</td>\n",
       "      <td>4979.287951</td>\n",
       "    </tr>\n",
       "    <tr>\n",
       "      <th>std</th>\n",
       "      <td>2898.910116</td>\n",
       "      <td>2896.377464</td>\n",
       "    </tr>\n",
       "    <tr>\n",
       "      <th>min</th>\n",
       "      <td>0.000000</td>\n",
       "      <td>0.000000</td>\n",
       "    </tr>\n",
       "    <tr>\n",
       "      <th>25%</th>\n",
       "      <td>2493.000000</td>\n",
       "      <td>2450.000000</td>\n",
       "    </tr>\n",
       "    <tr>\n",
       "      <th>50%</th>\n",
       "      <td>5026.000000</td>\n",
       "      <td>4985.000000</td>\n",
       "    </tr>\n",
       "    <tr>\n",
       "      <th>75%</th>\n",
       "      <td>7548.000000</td>\n",
       "      <td>7478.000000</td>\n",
       "    </tr>\n",
       "    <tr>\n",
       "      <th>max</th>\n",
       "      <td>10000.000000</td>\n",
       "      <td>10000.000000</td>\n",
       "    </tr>\n",
       "  </tbody>\n",
       "</table>\n",
       "</div>"
      ],
      "text/plain": [
       "       power_turbine2  power_turbine3\n",
       "count    26577.000000    26633.000000\n",
       "mean      5014.110359     4979.287951\n",
       "std       2898.910116     2896.377464\n",
       "min          0.000000        0.000000\n",
       "25%       2493.000000     2450.000000\n",
       "50%       5026.000000     4985.000000\n",
       "75%       7548.000000     7478.000000\n",
       "max      10000.000000    10000.000000"
      ]
     },
     "execution_count": 6,
     "metadata": {},
     "output_type": "execute_result"
    }
   ],
   "source": [
    "data.describe()"
   ]
  },
  {
   "cell_type": "code",
   "execution_count": 7,
   "id": "e2866d95",
   "metadata": {},
   "outputs": [
    {
     "name": "stdout",
     "output_type": "stream",
     "text": [
      "<class 'pandas.core.frame.DataFrame'>\n",
      "RangeIndex: 26633 entries, 0 to 26632\n",
      "Data columns (total 4 columns):\n",
      " #   Column          Non-Null Count  Dtype         \n",
      "---  ------          --------------  -----         \n",
      " 0   time            26603 non-null  datetime64[ns]\n",
      " 1   power_turbine1  26573 non-null  object        \n",
      " 2   power_turbine2  26577 non-null  float64       \n",
      " 3   power_turbine3  26633 non-null  int64         \n",
      "dtypes: datetime64[ns](1), float64(1), int64(1), object(1)\n",
      "memory usage: 832.4+ KB\n"
     ]
    }
   ],
   "source": [
    "data.info()"
   ]
  },
  {
   "cell_type": "code",
   "execution_count": 8,
   "id": "ce2b79e8",
   "metadata": {},
   "outputs": [],
   "source": [
    "for i in range(len(data)):\n",
    "    if type(data['power_turbine1'][i])==str:\n",
    "        #print(data['power_turbine1'][i])\n",
    "        data.drop(i,inplace=True)"
   ]
  },
  {
   "cell_type": "code",
   "execution_count": 9,
   "id": "13c8274b",
   "metadata": {},
   "outputs": [],
   "source": [
    "data['power_turbine1']=pd.to_numeric(data['power_turbine1'])"
   ]
  },
  {
   "cell_type": "code",
   "execution_count": 10,
   "id": "1ed83252",
   "metadata": {},
   "outputs": [
    {
     "data": {
      "text/html": [
       "<div>\n",
       "<style scoped>\n",
       "    .dataframe tbody tr th:only-of-type {\n",
       "        vertical-align: middle;\n",
       "    }\n",
       "\n",
       "    .dataframe tbody tr th {\n",
       "        vertical-align: top;\n",
       "    }\n",
       "\n",
       "    .dataframe thead th {\n",
       "        text-align: right;\n",
       "    }\n",
       "</style>\n",
       "<table border=\"1\" class=\"dataframe\">\n",
       "  <thead>\n",
       "    <tr style=\"text-align: right;\">\n",
       "      <th></th>\n",
       "      <th>power_turbine1</th>\n",
       "      <th>power_turbine2</th>\n",
       "      <th>power_turbine3</th>\n",
       "    </tr>\n",
       "  </thead>\n",
       "  <tbody>\n",
       "    <tr>\n",
       "      <th>count</th>\n",
       "      <td>26572.000000</td>\n",
       "      <td>26576.000000</td>\n",
       "      <td>26632.000000</td>\n",
       "    </tr>\n",
       "    <tr>\n",
       "      <th>mean</th>\n",
       "      <td>4980.373363</td>\n",
       "      <td>5014.282210</td>\n",
       "      <td>4979.279063</td>\n",
       "    </tr>\n",
       "    <tr>\n",
       "      <th>std</th>\n",
       "      <td>2901.860165</td>\n",
       "      <td>2898.829275</td>\n",
       "      <td>2896.431480</td>\n",
       "    </tr>\n",
       "    <tr>\n",
       "      <th>min</th>\n",
       "      <td>0.000000</td>\n",
       "      <td>0.000000</td>\n",
       "      <td>0.000000</td>\n",
       "    </tr>\n",
       "    <tr>\n",
       "      <th>25%</th>\n",
       "      <td>2471.000000</td>\n",
       "      <td>2493.000000</td>\n",
       "      <td>2449.750000</td>\n",
       "    </tr>\n",
       "    <tr>\n",
       "      <th>50%</th>\n",
       "      <td>4945.500000</td>\n",
       "      <td>5026.000000</td>\n",
       "      <td>4985.000000</td>\n",
       "    </tr>\n",
       "    <tr>\n",
       "      <th>75%</th>\n",
       "      <td>7515.250000</td>\n",
       "      <td>7548.000000</td>\n",
       "      <td>7478.000000</td>\n",
       "    </tr>\n",
       "    <tr>\n",
       "      <th>max</th>\n",
       "      <td>10000.000000</td>\n",
       "      <td>10000.000000</td>\n",
       "      <td>10000.000000</td>\n",
       "    </tr>\n",
       "  </tbody>\n",
       "</table>\n",
       "</div>"
      ],
      "text/plain": [
       "       power_turbine1  power_turbine2  power_turbine3\n",
       "count    26572.000000    26576.000000    26632.000000\n",
       "mean      4980.373363     5014.282210     4979.279063\n",
       "std       2901.860165     2898.829275     2896.431480\n",
       "min          0.000000        0.000000        0.000000\n",
       "25%       2471.000000     2493.000000     2449.750000\n",
       "50%       4945.500000     5026.000000     4985.000000\n",
       "75%       7515.250000     7548.000000     7478.000000\n",
       "max      10000.000000    10000.000000    10000.000000"
      ]
     },
     "execution_count": 10,
     "metadata": {},
     "output_type": "execute_result"
    }
   ],
   "source": [
    "data.describe()"
   ]
  },
  {
   "cell_type": "code",
   "execution_count": 11,
   "id": "55f0cd17",
   "metadata": {},
   "outputs": [
    {
     "name": "stdout",
     "output_type": "stream",
     "text": [
      "<class 'pandas.core.frame.DataFrame'>\n",
      "Int64Index: 26632 entries, 0 to 26632\n",
      "Data columns (total 4 columns):\n",
      " #   Column          Non-Null Count  Dtype         \n",
      "---  ------          --------------  -----         \n",
      " 0   time            26602 non-null  datetime64[ns]\n",
      " 1   power_turbine1  26572 non-null  float64       \n",
      " 2   power_turbine2  26576 non-null  float64       \n",
      " 3   power_turbine3  26632 non-null  int64         \n",
      "dtypes: datetime64[ns](1), float64(2), int64(1)\n",
      "memory usage: 2.0 MB\n"
     ]
    }
   ],
   "source": [
    "data.info()"
   ]
  },
  {
   "cell_type": "code",
   "execution_count": 12,
   "id": "b2a89c26",
   "metadata": {},
   "outputs": [
    {
     "data": {
      "text/plain": [
       "time              30\n",
       "power_turbine1    60\n",
       "power_turbine2    56\n",
       "power_turbine3     0\n",
       "dtype: int64"
      ]
     },
     "execution_count": 12,
     "metadata": {},
     "output_type": "execute_result"
    }
   ],
   "source": [
    "data.isnull().sum()"
   ]
  },
  {
   "cell_type": "code",
   "execution_count": 13,
   "id": "6a72f79e",
   "metadata": {},
   "outputs": [],
   "source": [
    "#data.fillna(method='ffill',inplace=True)\n",
    "data.dropna(how='any',inplace=True)\n",
    "data.reset_index(drop=True,inplace=True)"
   ]
  },
  {
   "cell_type": "code",
   "execution_count": 14,
   "id": "e34c9413",
   "metadata": {},
   "outputs": [
    {
     "data": {
      "text/plain": [
       "time              0\n",
       "power_turbine1    0\n",
       "power_turbine2    0\n",
       "power_turbine3    0\n",
       "dtype: int64"
      ]
     },
     "execution_count": 14,
     "metadata": {},
     "output_type": "execute_result"
    }
   ],
   "source": [
    "data.isnull().sum()"
   ]
  },
  {
   "cell_type": "code",
   "execution_count": 15,
   "id": "41cb63e1",
   "metadata": {},
   "outputs": [
    {
     "data": {
      "text/plain": [
       "(26486, 4)"
      ]
     },
     "execution_count": 15,
     "metadata": {},
     "output_type": "execute_result"
    }
   ],
   "source": [
    "data.shape"
   ]
  },
  {
   "cell_type": "code",
   "execution_count": 16,
   "id": "d6aa57ea",
   "metadata": {},
   "outputs": [],
   "source": [
    "data['Datetime']=pd.to_datetime(data['time'])"
   ]
  },
  {
   "cell_type": "code",
   "execution_count": 17,
   "id": "d7fe5b33",
   "metadata": {},
   "outputs": [],
   "source": [
    "data['Date']=[i.date() for i in data['time']]"
   ]
  },
  {
   "cell_type": "code",
   "execution_count": 18,
   "id": "d0f24f2b",
   "metadata": {},
   "outputs": [
    {
     "data": {
      "text/plain": [
       "array([datetime.date(2020, 1, 1), datetime.date(2020, 1, 2),\n",
       "       datetime.date(2020, 1, 4)], dtype=object)"
      ]
     },
     "execution_count": 18,
     "metadata": {},
     "output_type": "execute_result"
    }
   ],
   "source": [
    "data['Date'].unique()"
   ]
  },
  {
   "cell_type": "code",
   "execution_count": 19,
   "id": "2e80b82d",
   "metadata": {},
   "outputs": [
    {
     "data": {
      "text/html": [
       "<div>\n",
       "<style scoped>\n",
       "    .dataframe tbody tr th:only-of-type {\n",
       "        vertical-align: middle;\n",
       "    }\n",
       "\n",
       "    .dataframe tbody tr th {\n",
       "        vertical-align: top;\n",
       "    }\n",
       "\n",
       "    .dataframe thead th {\n",
       "        text-align: right;\n",
       "    }\n",
       "</style>\n",
       "<table border=\"1\" class=\"dataframe\">\n",
       "  <thead>\n",
       "    <tr style=\"text-align: right;\">\n",
       "      <th></th>\n",
       "      <th>time</th>\n",
       "      <th>power_turbine1</th>\n",
       "      <th>power_turbine2</th>\n",
       "      <th>power_turbine3</th>\n",
       "      <th>Datetime</th>\n",
       "      <th>Date</th>\n",
       "    </tr>\n",
       "  </thead>\n",
       "  <tbody>\n",
       "    <tr>\n",
       "      <th>0</th>\n",
       "      <td>2020-01-01 00:01:00</td>\n",
       "      <td>7390.0</td>\n",
       "      <td>1592.0</td>\n",
       "      <td>5751</td>\n",
       "      <td>2020-01-01 00:01:00</td>\n",
       "      <td>2020-01-01</td>\n",
       "    </tr>\n",
       "    <tr>\n",
       "      <th>1</th>\n",
       "      <td>2020-01-01 00:02:00</td>\n",
       "      <td>10000.0</td>\n",
       "      <td>5942.0</td>\n",
       "      <td>649</td>\n",
       "      <td>2020-01-01 00:02:00</td>\n",
       "      <td>2020-01-01</td>\n",
       "    </tr>\n",
       "    <tr>\n",
       "      <th>2</th>\n",
       "      <td>2020-01-01 00:03:00</td>\n",
       "      <td>1116.0</td>\n",
       "      <td>9414.0</td>\n",
       "      <td>4224</td>\n",
       "      <td>2020-01-01 00:03:00</td>\n",
       "      <td>2020-01-01</td>\n",
       "    </tr>\n",
       "    <tr>\n",
       "      <th>3</th>\n",
       "      <td>2020-01-01 00:04:00</td>\n",
       "      <td>3301.0</td>\n",
       "      <td>5291.0</td>\n",
       "      <td>5558</td>\n",
       "      <td>2020-01-01 00:04:00</td>\n",
       "      <td>2020-01-01</td>\n",
       "    </tr>\n",
       "    <tr>\n",
       "      <th>4</th>\n",
       "      <td>2020-01-01 00:05:00</td>\n",
       "      <td>9086.0</td>\n",
       "      <td>3830.0</td>\n",
       "      <td>8564</td>\n",
       "      <td>2020-01-01 00:05:00</td>\n",
       "      <td>2020-01-01</td>\n",
       "    </tr>\n",
       "  </tbody>\n",
       "</table>\n",
       "</div>"
      ],
      "text/plain": [
       "                 time  power_turbine1  power_turbine2  power_turbine3  \\\n",
       "0 2020-01-01 00:01:00          7390.0          1592.0            5751   \n",
       "1 2020-01-01 00:02:00         10000.0          5942.0             649   \n",
       "2 2020-01-01 00:03:00          1116.0          9414.0            4224   \n",
       "3 2020-01-01 00:04:00          3301.0          5291.0            5558   \n",
       "4 2020-01-01 00:05:00          9086.0          3830.0            8564   \n",
       "\n",
       "             Datetime        Date  \n",
       "0 2020-01-01 00:01:00  2020-01-01  \n",
       "1 2020-01-01 00:02:00  2020-01-01  \n",
       "2 2020-01-01 00:03:00  2020-01-01  \n",
       "3 2020-01-01 00:04:00  2020-01-01  \n",
       "4 2020-01-01 00:05:00  2020-01-01  "
      ]
     },
     "execution_count": 19,
     "metadata": {},
     "output_type": "execute_result"
    }
   ],
   "source": [
    "data.head()"
   ]
  },
  {
   "cell_type": "code",
   "execution_count": 20,
   "id": "d5d37c87",
   "metadata": {},
   "outputs": [
    {
     "data": {
      "text/plain": [
       "[<matplotlib.lines.Line2D at 0x1daaae61f10>]"
      ]
     },
     "execution_count": 20,
     "metadata": {},
     "output_type": "execute_result"
    },
    {
     "data": {
      "image/png": "[encoded data removed]",
      "text/plain": [
       "<Figure size 1440x360 with 1 Axes>"
      ]
     },
     "metadata": {
      "needs_background": "light"
     },
     "output_type": "display_data"
    }
   ],
   "source": [
    "plt.figure(figsize=(20,5))\n",
    "plt.plot(data.time,data.power_turbine1)"
   ]
  },
  {
   "cell_type": "code",
   "execution_count": 21,
   "id": "f0605056",
   "metadata": {},
   "outputs": [
    {
     "data": {
      "text/plain": [
       "<matplotlib.collections.PathCollection at 0x1daaae7be50>"
      ]
     },
     "execution_count": 21,
     "metadata": {},
     "output_type": "execute_result"
    },
    {
     "data": {
      "image/png": "[encoded data removed]",
      "text/plain": [
       "<Figure size 432x288 with 1 Axes>"
      ]
     },
     "metadata": {
      "needs_background": "light"
     },
     "output_type": "display_data"
    }
   ],
   "source": [
    "plt.scatter(data.time,data.power_turbine2)"
   ]
  },
  {
   "cell_type": "code",
   "execution_count": 22,
   "id": "4142f1a1",
   "metadata": {},
   "outputs": [
    {
     "data": {
      "text/plain": [
       "[<matplotlib.lines.Line2D at 0x1daab569160>]"
      ]
     },
     "execution_count": 22,
     "metadata": {},
     "output_type": "execute_result"
    },
    {
     "data": {
      "image/png": "[encoded data removed]",
      "text/plain": [
       "<Figure size 432x288 with 1 Axes>"
      ]
     },
     "metadata": {
      "needs_background": "light"
     },
     "output_type": "display_data"
    }
   ],
   "source": [
    "plt.plot(data.time,data.power_turbine3)"
   ]
  },
  {
   "cell_type": "code",
   "execution_count": 23,
   "id": "3d78a0bb",
   "metadata": {},
   "outputs": [
    {
     "data": {
      "text/html": [
       "<div>\n",
       "<style scoped>\n",
       "    .dataframe tbody tr th:only-of-type {\n",
       "        vertical-align: middle;\n",
       "    }\n",
       "\n",
       "    .dataframe tbody tr th {\n",
       "        vertical-align: top;\n",
       "    }\n",
       "\n",
       "    .dataframe thead th {\n",
       "        text-align: right;\n",
       "    }\n",
       "</style>\n",
       "<table border=\"1\" class=\"dataframe\">\n",
       "  <thead>\n",
       "    <tr style=\"text-align: right;\">\n",
       "      <th></th>\n",
       "      <th>time</th>\n",
       "      <th>power_turbine1</th>\n",
       "      <th>power_turbine2</th>\n",
       "      <th>power_turbine3</th>\n",
       "      <th>Datetime</th>\n",
       "      <th>Date</th>\n",
       "    </tr>\n",
       "  </thead>\n",
       "  <tbody>\n",
       "    <tr>\n",
       "      <th>0</th>\n",
       "      <td>2020-01-01 00:01:00</td>\n",
       "      <td>7390.0</td>\n",
       "      <td>1592.0</td>\n",
       "      <td>5751</td>\n",
       "      <td>2020-01-01 00:01:00</td>\n",
       "      <td>2020-01-01</td>\n",
       "    </tr>\n",
       "    <tr>\n",
       "      <th>11064</th>\n",
       "      <td>2020-01-01 00:01:00</td>\n",
       "      <td>5284.0</td>\n",
       "      <td>984.0</td>\n",
       "      <td>5831</td>\n",
       "      <td>2020-01-01 00:01:00</td>\n",
       "      <td>2020-01-01</td>\n",
       "    </tr>\n",
       "    <tr>\n",
       "      <th>15536</th>\n",
       "      <td>2020-01-01 00:01:00</td>\n",
       "      <td>6569.0</td>\n",
       "      <td>2819.0</td>\n",
       "      <td>7339</td>\n",
       "      <td>2020-01-01 00:01:00</td>\n",
       "      <td>2020-01-01</td>\n",
       "    </tr>\n",
       "    <tr>\n",
       "      <th>8828</th>\n",
       "      <td>2020-01-01 00:01:00</td>\n",
       "      <td>8973.0</td>\n",
       "      <td>4783.0</td>\n",
       "      <td>8282</td>\n",
       "      <td>2020-01-01 00:01:00</td>\n",
       "      <td>2020-01-01</td>\n",
       "    </tr>\n",
       "    <tr>\n",
       "      <th>17772</th>\n",
       "      <td>2020-01-01 00:01:00</td>\n",
       "      <td>7295.0</td>\n",
       "      <td>1766.0</td>\n",
       "      <td>6696</td>\n",
       "      <td>2020-01-01 00:01:00</td>\n",
       "      <td>2020-01-01</td>\n",
       "    </tr>\n",
       "    <tr>\n",
       "      <th>6592</th>\n",
       "      <td>2020-01-01 00:01:00</td>\n",
       "      <td>8317.0</td>\n",
       "      <td>8535.0</td>\n",
       "      <td>2866</td>\n",
       "      <td>2020-01-01 00:01:00</td>\n",
       "      <td>2020-01-01</td>\n",
       "    </tr>\n",
       "    <tr>\n",
       "      <th>20007</th>\n",
       "      <td>2020-01-01 00:01:00</td>\n",
       "      <td>4171.0</td>\n",
       "      <td>8654.0</td>\n",
       "      <td>2973</td>\n",
       "      <td>2020-01-01 00:01:00</td>\n",
       "      <td>2020-01-01</td>\n",
       "    </tr>\n",
       "    <tr>\n",
       "      <th>4356</th>\n",
       "      <td>2020-01-01 00:01:00</td>\n",
       "      <td>8998.0</td>\n",
       "      <td>323.0</td>\n",
       "      <td>5709</td>\n",
       "      <td>2020-01-01 00:01:00</td>\n",
       "      <td>2020-01-01</td>\n",
       "    </tr>\n",
       "    <tr>\n",
       "      <th>22243</th>\n",
       "      <td>2020-01-01 00:01:00</td>\n",
       "      <td>4736.0</td>\n",
       "      <td>5051.0</td>\n",
       "      <td>6251</td>\n",
       "      <td>2020-01-01 00:01:00</td>\n",
       "      <td>2020-01-01</td>\n",
       "    </tr>\n",
       "    <tr>\n",
       "      <th>2120</th>\n",
       "      <td>2020-01-01 00:01:00</td>\n",
       "      <td>5835.0</td>\n",
       "      <td>8737.0</td>\n",
       "      <td>4913</td>\n",
       "      <td>2020-01-01 00:01:00</td>\n",
       "      <td>2020-01-01</td>\n",
       "    </tr>\n",
       "  </tbody>\n",
       "</table>\n",
       "</div>"
      ],
      "text/plain": [
       "                     time  power_turbine1  power_turbine2  power_turbine3  \\\n",
       "0     2020-01-01 00:01:00          7390.0          1592.0            5751   \n",
       "11064 2020-01-01 00:01:00          5284.0           984.0            5831   \n",
       "15536 2020-01-01 00:01:00          6569.0          2819.0            7339   \n",
       "8828  2020-01-01 00:01:00          8973.0          4783.0            8282   \n",
       "17772 2020-01-01 00:01:00          7295.0          1766.0            6696   \n",
       "6592  2020-01-01 00:01:00          8317.0          8535.0            2866   \n",
       "20007 2020-01-01 00:01:00          4171.0          8654.0            2973   \n",
       "4356  2020-01-01 00:01:00          8998.0           323.0            5709   \n",
       "22243 2020-01-01 00:01:00          4736.0          5051.0            6251   \n",
       "2120  2020-01-01 00:01:00          5835.0          8737.0            4913   \n",
       "\n",
       "                 Datetime        Date  \n",
       "0     2020-01-01 00:01:00  2020-01-01  \n",
       "11064 2020-01-01 00:01:00  2020-01-01  \n",
       "15536 2020-01-01 00:01:00  2020-01-01  \n",
       "8828  2020-01-01 00:01:00  2020-01-01  \n",
       "17772 2020-01-01 00:01:00  2020-01-01  \n",
       "6592  2020-01-01 00:01:00  2020-01-01  \n",
       "20007 2020-01-01 00:01:00  2020-01-01  \n",
       "4356  2020-01-01 00:01:00  2020-01-01  \n",
       "22243 2020-01-01 00:01:00  2020-01-01  \n",
       "2120  2020-01-01 00:01:00  2020-01-01  "
      ]
     },
     "execution_count": 23,
     "metadata": {},
     "output_type": "execute_result"
    }
   ],
   "source": [
    "data.sort_values('time').head(10)"
   ]
  },
  {
   "cell_type": "code",
   "execution_count": 24,
   "id": "70ce95d0",
   "metadata": {},
   "outputs": [],
   "source": [
    "df=data.drop_duplicates(['time'])"
   ]
  },
  {
   "cell_type": "code",
   "execution_count": 25,
   "id": "972e5328",
   "metadata": {},
   "outputs": [
    {
     "data": {
      "text/plain": [
       "(2496, 6)"
      ]
     },
     "execution_count": 25,
     "metadata": {},
     "output_type": "execute_result"
    }
   ],
   "source": [
    "df.shape"
   ]
  },
  {
   "cell_type": "code",
   "execution_count": 26,
   "id": "dafdc09d",
   "metadata": {},
   "outputs": [
    {
     "name": "stderr",
     "output_type": "stream",
     "text": [
      "<ipython-input-26-6b965c0c19ac>:1: SettingWithCopyWarning: \n",
      "A value is trying to be set on a copy of a slice from a DataFrame\n",
      "\n",
      "See the caveats in the documentation: https://pandas.pydata.org/pandas-docs/stable/user_guide/indexing.html#returning-a-view-versus-a-copy\n",
      "  df.sort_values('time',inplace=True)\n"
     ]
    }
   ],
   "source": [
    "df.sort_values('time',inplace=True)\n",
    "df.reset_index(drop=True,inplace=True)"
   ]
  },
  {
   "cell_type": "code",
   "execution_count": 27,
   "id": "4ad439aa",
   "metadata": {},
   "outputs": [],
   "source": [
    "new=[]\n",
    "for i in range(1,len(df)-1):\n",
    "    di=(df['time'][i]-df['time'][i-1]).total_seconds()/60\n",
    "    if di <=2.0:\n",
    "        continue\n",
    "    else:\n",
    "        new.append({'ind':i,'prev_time':df['time'][i-1],'pre_time':df['time'][i],'Diff':di})\n"
   ]
  },
  {
   "cell_type": "code",
   "execution_count": 28,
   "id": "39ea2a3e",
   "metadata": {},
   "outputs": [
    {
     "data": {
      "text/html": [
       "<div>\n",
       "<style scoped>\n",
       "    .dataframe tbody tr th:only-of-type {\n",
       "        vertical-align: middle;\n",
       "    }\n",
       "\n",
       "    .dataframe tbody tr th {\n",
       "        vertical-align: top;\n",
       "    }\n",
       "\n",
       "    .dataframe thead th {\n",
       "        text-align: right;\n",
       "    }\n",
       "</style>\n",
       "<table border=\"1\" class=\"dataframe\">\n",
       "  <thead>\n",
       "    <tr style=\"text-align: right;\">\n",
       "      <th></th>\n",
       "      <th>ind</th>\n",
       "      <th>prev_time</th>\n",
       "      <th>pre_time</th>\n",
       "      <th>Diff</th>\n",
       "    </tr>\n",
       "  </thead>\n",
       "  <tbody>\n",
       "    <tr>\n",
       "      <th>0</th>\n",
       "      <td>2235</td>\n",
       "      <td>2020-01-02 13:15:00</td>\n",
       "      <td>2020-01-04 00:00:00</td>\n",
       "      <td>2085.0</td>\n",
       "    </tr>\n",
       "    <tr>\n",
       "      <th>1</th>\n",
       "      <td>2476</td>\n",
       "      <td>2020-01-04 04:00:00</td>\n",
       "      <td>2020-01-04 04:31:00</td>\n",
       "      <td>31.0</td>\n",
       "    </tr>\n",
       "  </tbody>\n",
       "</table>\n",
       "</div>"
      ],
      "text/plain": [
       "    ind           prev_time            pre_time    Diff\n",
       "0  2235 2020-01-02 13:15:00 2020-01-04 00:00:00  2085.0\n",
       "1  2476 2020-01-04 04:00:00 2020-01-04 04:31:00    31.0"
      ]
     },
     "execution_count": 28,
     "metadata": {},
     "output_type": "execute_result"
    }
   ],
   "source": [
    "pd.DataFrame(new)"
   ]
  },
  {
   "cell_type": "code",
   "execution_count": 29,
   "id": "f63eb394",
   "metadata": {},
   "outputs": [
    {
     "data": {
      "text/plain": [
       "(26486, 6)"
      ]
     },
     "execution_count": 29,
     "metadata": {},
     "output_type": "execute_result"
    }
   ],
   "source": [
    "data.shape"
   ]
  },
  {
   "cell_type": "code",
   "execution_count": 30,
   "id": "4e1bc7eb",
   "metadata": {},
   "outputs": [
    {
     "data": {
      "text/plain": [
       "(2496, 6)"
      ]
     },
     "execution_count": 30,
     "metadata": {},
     "output_type": "execute_result"
    }
   ],
   "source": [
    "df.shape"
   ]
  },
  {
   "cell_type": "code",
   "execution_count": 31,
   "id": "67fee583",
   "metadata": {},
   "outputs": [],
   "source": [
    "new1=[]\n",
    "for i in range(1,len(df)-1):\n",
    "    di=(df['time'][i]-df['time'][i-1]).total_seconds()/60\n",
    "    #print(di)\n",
    "    \n",
    "    if di <=10.0:\n",
    "        continue\n",
    "    else:\n",
    "        tt_time=df['time'][i-1]\n",
    "        for j in range(0,int(di)):\n",
    "            tt_time=tt_time+dt.timedelta(minutes = 1)\n",
    "            t1=random.choice(list(df['power_turbine1'][df['power_turbine1'].notna()]))\n",
    "            t2=random.choice(list(df['power_turbine2'][df['power_turbine2'].notna()]))\n",
    "            t3=random.choice(list(df['power_turbine3'][df['power_turbine3'].notna()]))\n",
    "            new1.append({'time':tt_time,'power_turbine1':t1,'power_turbine2':t2,'power_turbine3':t3})\n",
    "\n",
    "    "
   ]
  },
  {
   "cell_type": "code",
   "execution_count": 32,
   "id": "d344d69e",
   "metadata": {},
   "outputs": [],
   "source": [
    "new1=pd.DataFrame(new1)"
   ]
  },
  {
   "cell_type": "code",
   "execution_count": 33,
   "id": "8a18ed67",
   "metadata": {},
   "outputs": [],
   "source": [
    "df=df[['time','power_turbine1','power_turbine2','power_turbine3']]"
   ]
  },
  {
   "cell_type": "code",
   "execution_count": 34,
   "id": "2c5bede2",
   "metadata": {},
   "outputs": [
    {
     "data": {
      "text/html": [
       "<div>\n",
       "<style scoped>\n",
       "    .dataframe tbody tr th:only-of-type {\n",
       "        vertical-align: middle;\n",
       "    }\n",
       "\n",
       "    .dataframe tbody tr th {\n",
       "        vertical-align: top;\n",
       "    }\n",
       "\n",
       "    .dataframe thead th {\n",
       "        text-align: right;\n",
       "    }\n",
       "</style>\n",
       "<table border=\"1\" class=\"dataframe\">\n",
       "  <thead>\n",
       "    <tr style=\"text-align: right;\">\n",
       "      <th></th>\n",
       "      <th>time</th>\n",
       "      <th>power_turbine1</th>\n",
       "      <th>power_turbine2</th>\n",
       "      <th>power_turbine3</th>\n",
       "    </tr>\n",
       "  </thead>\n",
       "  <tbody>\n",
       "    <tr>\n",
       "      <th>2111</th>\n",
       "      <td>2020-01-04 04:27:00</td>\n",
       "      <td>5430.0</td>\n",
       "      <td>8899.0</td>\n",
       "      <td>9219</td>\n",
       "    </tr>\n",
       "    <tr>\n",
       "      <th>2112</th>\n",
       "      <td>2020-01-04 04:28:00</td>\n",
       "      <td>7046.0</td>\n",
       "      <td>7404.0</td>\n",
       "      <td>8032</td>\n",
       "    </tr>\n",
       "    <tr>\n",
       "      <th>2113</th>\n",
       "      <td>2020-01-04 04:29:00</td>\n",
       "      <td>1877.0</td>\n",
       "      <td>5302.0</td>\n",
       "      <td>9139</td>\n",
       "    </tr>\n",
       "    <tr>\n",
       "      <th>2114</th>\n",
       "      <td>2020-01-04 04:30:00</td>\n",
       "      <td>0.0</td>\n",
       "      <td>9223.0</td>\n",
       "      <td>1960</td>\n",
       "    </tr>\n",
       "    <tr>\n",
       "      <th>2115</th>\n",
       "      <td>2020-01-04 04:31:00</td>\n",
       "      <td>5395.0</td>\n",
       "      <td>3234.0</td>\n",
       "      <td>6401</td>\n",
       "    </tr>\n",
       "  </tbody>\n",
       "</table>\n",
       "</div>"
      ],
      "text/plain": [
       "                    time  power_turbine1  power_turbine2  power_turbine3\n",
       "2111 2020-01-04 04:27:00          5430.0          8899.0            9219\n",
       "2112 2020-01-04 04:28:00          7046.0          7404.0            8032\n",
       "2113 2020-01-04 04:29:00          1877.0          5302.0            9139\n",
       "2114 2020-01-04 04:30:00             0.0          9223.0            1960\n",
       "2115 2020-01-04 04:31:00          5395.0          3234.0            6401"
      ]
     },
     "execution_count": 34,
     "metadata": {},
     "output_type": "execute_result"
    }
   ],
   "source": [
    "new1.tail()"
   ]
  },
  {
   "cell_type": "code",
   "execution_count": 35,
   "id": "2d15964f",
   "metadata": {},
   "outputs": [],
   "source": [
    "df_data=pd.concat([df,new1])"
   ]
  },
  {
   "cell_type": "code",
   "execution_count": 36,
   "id": "c8de3b22",
   "metadata": {},
   "outputs": [],
   "source": [
    "df_data.sort_values('time',inplace=True)"
   ]
  },
  {
   "cell_type": "code",
   "execution_count": 37,
   "id": "db0755b3",
   "metadata": {},
   "outputs": [],
   "source": [
    "df_data.reset_index(drop=True,inplace=True)"
   ]
  },
  {
   "cell_type": "code",
   "execution_count": 38,
   "id": "e346d777",
   "metadata": {},
   "outputs": [
    {
     "data": {
      "text/html": [
       "<div>\n",
       "<style scoped>\n",
       "    .dataframe tbody tr th:only-of-type {\n",
       "        vertical-align: middle;\n",
       "    }\n",
       "\n",
       "    .dataframe tbody tr th {\n",
       "        vertical-align: top;\n",
       "    }\n",
       "\n",
       "    .dataframe thead th {\n",
       "        text-align: right;\n",
       "    }\n",
       "</style>\n",
       "<table border=\"1\" class=\"dataframe\">\n",
       "  <thead>\n",
       "    <tr style=\"text-align: right;\">\n",
       "      <th></th>\n",
       "      <th>time</th>\n",
       "      <th>power_turbine1</th>\n",
       "      <th>power_turbine2</th>\n",
       "      <th>power_turbine3</th>\n",
       "    </tr>\n",
       "  </thead>\n",
       "  <tbody>\n",
       "    <tr>\n",
       "      <th>0</th>\n",
       "      <td>2020-01-01 00:01:00</td>\n",
       "      <td>7390.0</td>\n",
       "      <td>1592.0</td>\n",
       "      <td>5751</td>\n",
       "    </tr>\n",
       "    <tr>\n",
       "      <th>1</th>\n",
       "      <td>2020-01-01 00:02:00</td>\n",
       "      <td>10000.0</td>\n",
       "      <td>5942.0</td>\n",
       "      <td>649</td>\n",
       "    </tr>\n",
       "    <tr>\n",
       "      <th>2</th>\n",
       "      <td>2020-01-01 00:03:00</td>\n",
       "      <td>1116.0</td>\n",
       "      <td>9414.0</td>\n",
       "      <td>4224</td>\n",
       "    </tr>\n",
       "    <tr>\n",
       "      <th>3</th>\n",
       "      <td>2020-01-01 00:04:00</td>\n",
       "      <td>3301.0</td>\n",
       "      <td>5291.0</td>\n",
       "      <td>5558</td>\n",
       "    </tr>\n",
       "    <tr>\n",
       "      <th>4</th>\n",
       "      <td>2020-01-01 00:05:00</td>\n",
       "      <td>9086.0</td>\n",
       "      <td>3830.0</td>\n",
       "      <td>8564</td>\n",
       "    </tr>\n",
       "    <tr>\n",
       "      <th>...</th>\n",
       "      <td>...</td>\n",
       "      <td>...</td>\n",
       "      <td>...</td>\n",
       "      <td>...</td>\n",
       "    </tr>\n",
       "    <tr>\n",
       "      <th>4607</th>\n",
       "      <td>2020-01-04 04:46:00</td>\n",
       "      <td>9929.0</td>\n",
       "      <td>1949.0</td>\n",
       "      <td>7829</td>\n",
       "    </tr>\n",
       "    <tr>\n",
       "      <th>4608</th>\n",
       "      <td>2020-01-04 04:47:00</td>\n",
       "      <td>4255.0</td>\n",
       "      <td>8588.0</td>\n",
       "      <td>9082</td>\n",
       "    </tr>\n",
       "    <tr>\n",
       "      <th>4609</th>\n",
       "      <td>2020-01-04 04:48:00</td>\n",
       "      <td>5389.0</td>\n",
       "      <td>7854.0</td>\n",
       "      <td>807</td>\n",
       "    </tr>\n",
       "    <tr>\n",
       "      <th>4610</th>\n",
       "      <td>2020-01-04 04:49:00</td>\n",
       "      <td>4666.0</td>\n",
       "      <td>4751.0</td>\n",
       "      <td>9372</td>\n",
       "    </tr>\n",
       "    <tr>\n",
       "      <th>4611</th>\n",
       "      <td>2020-01-04 04:50:00</td>\n",
       "      <td>2427.0</td>\n",
       "      <td>3120.0</td>\n",
       "      <td>226</td>\n",
       "    </tr>\n",
       "  </tbody>\n",
       "</table>\n",
       "<p>4612 rows × 4 columns</p>\n",
       "</div>"
      ],
      "text/plain": [
       "                    time  power_turbine1  power_turbine2  power_turbine3\n",
       "0    2020-01-01 00:01:00          7390.0          1592.0            5751\n",
       "1    2020-01-01 00:02:00         10000.0          5942.0             649\n",
       "2    2020-01-01 00:03:00          1116.0          9414.0            4224\n",
       "3    2020-01-01 00:04:00          3301.0          5291.0            5558\n",
       "4    2020-01-01 00:05:00          9086.0          3830.0            8564\n",
       "...                  ...             ...             ...             ...\n",
       "4607 2020-01-04 04:46:00          9929.0          1949.0            7829\n",
       "4608 2020-01-04 04:47:00          4255.0          8588.0            9082\n",
       "4609 2020-01-04 04:48:00          5389.0          7854.0             807\n",
       "4610 2020-01-04 04:49:00          4666.0          4751.0            9372\n",
       "4611 2020-01-04 04:50:00          2427.0          3120.0             226\n",
       "\n",
       "[4612 rows x 4 columns]"
      ]
     },
     "execution_count": 38,
     "metadata": {},
     "output_type": "execute_result"
    }
   ],
   "source": [
    "df_data"
   ]
  },
  {
   "cell_type": "code",
   "execution_count": 39,
   "id": "93869b8c",
   "metadata": {},
   "outputs": [
    {
     "data": {
      "text/plain": [
       "time              0\n",
       "power_turbine1    0\n",
       "power_turbine2    0\n",
       "power_turbine3    0\n",
       "dtype: int64"
      ]
     },
     "execution_count": 39,
     "metadata": {},
     "output_type": "execute_result"
    }
   ],
   "source": [
    "df_data.isnull().sum()"
   ]
  },
  {
   "cell_type": "code",
   "execution_count": 40,
   "id": "cdd8af0b",
   "metadata": {},
   "outputs": [],
   "source": [
    "df_data['Date']=[i.date() for i in df_data['time']]"
   ]
  },
  {
   "cell_type": "code",
   "execution_count": 41,
   "id": "d05fc2c0",
   "metadata": {},
   "outputs": [
    {
     "data": {
      "text/html": [
       "<div>\n",
       "<style scoped>\n",
       "    .dataframe tbody tr th:only-of-type {\n",
       "        vertical-align: middle;\n",
       "    }\n",
       "\n",
       "    .dataframe tbody tr th {\n",
       "        vertical-align: top;\n",
       "    }\n",
       "\n",
       "    .dataframe thead th {\n",
       "        text-align: right;\n",
       "    }\n",
       "</style>\n",
       "<table border=\"1\" class=\"dataframe\">\n",
       "  <thead>\n",
       "    <tr style=\"text-align: right;\">\n",
       "      <th></th>\n",
       "      <th>time</th>\n",
       "      <th>power_turbine1</th>\n",
       "      <th>power_turbine2</th>\n",
       "      <th>power_turbine3</th>\n",
       "      <th>Date</th>\n",
       "    </tr>\n",
       "  </thead>\n",
       "  <tbody>\n",
       "    <tr>\n",
       "      <th>2879</th>\n",
       "      <td>2020-01-03 00:00:00</td>\n",
       "      <td>1849.0</td>\n",
       "      <td>8431.0</td>\n",
       "      <td>1816</td>\n",
       "      <td>2020-01-03</td>\n",
       "    </tr>\n",
       "    <tr>\n",
       "      <th>2880</th>\n",
       "      <td>2020-01-03 00:01:00</td>\n",
       "      <td>4142.0</td>\n",
       "      <td>5462.0</td>\n",
       "      <td>1199</td>\n",
       "      <td>2020-01-03</td>\n",
       "    </tr>\n",
       "    <tr>\n",
       "      <th>2881</th>\n",
       "      <td>2020-01-03 00:02:00</td>\n",
       "      <td>7565.0</td>\n",
       "      <td>407.0</td>\n",
       "      <td>253</td>\n",
       "      <td>2020-01-03</td>\n",
       "    </tr>\n",
       "    <tr>\n",
       "      <th>2882</th>\n",
       "      <td>2020-01-03 00:03:00</td>\n",
       "      <td>5327.0</td>\n",
       "      <td>8298.0</td>\n",
       "      <td>387</td>\n",
       "      <td>2020-01-03</td>\n",
       "    </tr>\n",
       "    <tr>\n",
       "      <th>2883</th>\n",
       "      <td>2020-01-03 00:04:00</td>\n",
       "      <td>1882.0</td>\n",
       "      <td>382.0</td>\n",
       "      <td>9892</td>\n",
       "      <td>2020-01-03</td>\n",
       "    </tr>\n",
       "    <tr>\n",
       "      <th>...</th>\n",
       "      <td>...</td>\n",
       "      <td>...</td>\n",
       "      <td>...</td>\n",
       "      <td>...</td>\n",
       "      <td>...</td>\n",
       "    </tr>\n",
       "    <tr>\n",
       "      <th>4314</th>\n",
       "      <td>2020-01-03 23:55:00</td>\n",
       "      <td>4178.0</td>\n",
       "      <td>3728.0</td>\n",
       "      <td>6838</td>\n",
       "      <td>2020-01-03</td>\n",
       "    </tr>\n",
       "    <tr>\n",
       "      <th>4315</th>\n",
       "      <td>2020-01-03 23:56:00</td>\n",
       "      <td>8415.0</td>\n",
       "      <td>837.0</td>\n",
       "      <td>7957</td>\n",
       "      <td>2020-01-03</td>\n",
       "    </tr>\n",
       "    <tr>\n",
       "      <th>4316</th>\n",
       "      <td>2020-01-03 23:57:00</td>\n",
       "      <td>6128.0</td>\n",
       "      <td>2650.0</td>\n",
       "      <td>4957</td>\n",
       "      <td>2020-01-03</td>\n",
       "    </tr>\n",
       "    <tr>\n",
       "      <th>4317</th>\n",
       "      <td>2020-01-03 23:58:00</td>\n",
       "      <td>6068.0</td>\n",
       "      <td>1592.0</td>\n",
       "      <td>9500</td>\n",
       "      <td>2020-01-03</td>\n",
       "    </tr>\n",
       "    <tr>\n",
       "      <th>4318</th>\n",
       "      <td>2020-01-03 23:59:00</td>\n",
       "      <td>7614.0</td>\n",
       "      <td>5900.0</td>\n",
       "      <td>6428</td>\n",
       "      <td>2020-01-03</td>\n",
       "    </tr>\n",
       "  </tbody>\n",
       "</table>\n",
       "<p>1440 rows × 5 columns</p>\n",
       "</div>"
      ],
      "text/plain": [
       "                    time  power_turbine1  power_turbine2  power_turbine3  \\\n",
       "2879 2020-01-03 00:00:00          1849.0          8431.0            1816   \n",
       "2880 2020-01-03 00:01:00          4142.0          5462.0            1199   \n",
       "2881 2020-01-03 00:02:00          7565.0           407.0             253   \n",
       "2882 2020-01-03 00:03:00          5327.0          8298.0             387   \n",
       "2883 2020-01-03 00:04:00          1882.0           382.0            9892   \n",
       "...                  ...             ...             ...             ...   \n",
       "4314 2020-01-03 23:55:00          4178.0          3728.0            6838   \n",
       "4315 2020-01-03 23:56:00          8415.0           837.0            7957   \n",
       "4316 2020-01-03 23:57:00          6128.0          2650.0            4957   \n",
       "4317 2020-01-03 23:58:00          6068.0          1592.0            9500   \n",
       "4318 2020-01-03 23:59:00          7614.0          5900.0            6428   \n",
       "\n",
       "            Date  \n",
       "2879  2020-01-03  \n",
       "2880  2020-01-03  \n",
       "2881  2020-01-03  \n",
       "2882  2020-01-03  \n",
       "2883  2020-01-03  \n",
       "...          ...  \n",
       "4314  2020-01-03  \n",
       "4315  2020-01-03  \n",
       "4316  2020-01-03  \n",
       "4317  2020-01-03  \n",
       "4318  2020-01-03  \n",
       "\n",
       "[1440 rows x 5 columns]"
      ]
     },
     "execution_count": 41,
     "metadata": {},
     "output_type": "execute_result"
    }
   ],
   "source": [
    "df_data[df_data.Date==df_data.Date.unique()[2]]"
   ]
  },
  {
   "cell_type": "code",
   "execution_count": null,
   "id": "3ad5bc47",
   "metadata": {},
   "outputs": [],
   "source": [
    "plt.plot(df_data.time,df_data.power_turbine3)"
   ]
  },
  {
   "cell_type": "code",
   "execution_count": null,
   "id": "64a72775",
   "metadata": {},
   "outputs": [],
   "source": [
    "df_data['time']=pd.to_datetime(data['time'])"
   ]
  },
  {
   "cell_type": "code",
   "execution_count": null,
   "id": "6550c06a",
   "metadata": {},
   "outputs": [],
   "source": [
    "df_data.head()"
   ]
  },
  {
   "cell_type": "code",
   "execution_count": null,
   "id": "29d1ae27",
   "metadata": {},
   "outputs": [],
   "source": [
    "df_data['power_turbine3']=df_data['power_turbine3'].astype('float64')"
   ]
  },
  {
   "cell_type": "code",
   "execution_count": null,
   "id": "bf6a497f",
   "metadata": {},
   "outputs": [],
   "source": [
    "df_data.info()"
   ]
  },
  {
   "cell_type": "code",
   "execution_count": 42,
   "id": "13ba1ae5",
   "metadata": {},
   "outputs": [],
   "source": [
    "df_data.to_excel(r'K:\\DATASETS\\final_Turbinepowerdata.xlsx',index=False)"
   ]
  },
  {
   "cell_type": "code",
   "execution_count": 51,
   "id": "e61fb8be",
   "metadata": {},
   "outputs": [
    {
     "data": {
      "text/html": [
       "<div>\n",
       "<style scoped>\n",
       "    .dataframe tbody tr th:only-of-type {\n",
       "        vertical-align: middle;\n",
       "    }\n",
       "\n",
       "    .dataframe tbody tr th {\n",
       "        vertical-align: top;\n",
       "    }\n",
       "\n",
       "    .dataframe thead th {\n",
       "        text-align: right;\n",
       "    }\n",
       "</style>\n",
       "<table border=\"1\" class=\"dataframe\">\n",
       "  <thead>\n",
       "    <tr style=\"text-align: right;\">\n",
       "      <th></th>\n",
       "      <th>time</th>\n",
       "      <th>power_turbine1</th>\n",
       "      <th>power_turbine2</th>\n",
       "      <th>power_turbine3</th>\n",
       "      <th>Date</th>\n",
       "    </tr>\n",
       "  </thead>\n",
       "  <tbody>\n",
       "    <tr>\n",
       "      <th>0</th>\n",
       "      <td>2020-01-01 00:01:00</td>\n",
       "      <td>7390.0</td>\n",
       "      <td>1592.0</td>\n",
       "      <td>5751</td>\n",
       "      <td>2020-01-01</td>\n",
       "    </tr>\n",
       "    <tr>\n",
       "      <th>1</th>\n",
       "      <td>2020-01-01 00:02:00</td>\n",
       "      <td>10000.0</td>\n",
       "      <td>5942.0</td>\n",
       "      <td>649</td>\n",
       "      <td>2020-01-01</td>\n",
       "    </tr>\n",
       "    <tr>\n",
       "      <th>2</th>\n",
       "      <td>2020-01-01 00:03:00</td>\n",
       "      <td>1116.0</td>\n",
       "      <td>9414.0</td>\n",
       "      <td>4224</td>\n",
       "      <td>2020-01-01</td>\n",
       "    </tr>\n",
       "    <tr>\n",
       "      <th>3</th>\n",
       "      <td>2020-01-01 00:04:00</td>\n",
       "      <td>3301.0</td>\n",
       "      <td>5291.0</td>\n",
       "      <td>5558</td>\n",
       "      <td>2020-01-01</td>\n",
       "    </tr>\n",
       "    <tr>\n",
       "      <th>4</th>\n",
       "      <td>2020-01-01 00:05:00</td>\n",
       "      <td>9086.0</td>\n",
       "      <td>3830.0</td>\n",
       "      <td>8564</td>\n",
       "      <td>2020-01-01</td>\n",
       "    </tr>\n",
       "    <tr>\n",
       "      <th>...</th>\n",
       "      <td>...</td>\n",
       "      <td>...</td>\n",
       "      <td>...</td>\n",
       "      <td>...</td>\n",
       "      <td>...</td>\n",
       "    </tr>\n",
       "    <tr>\n",
       "      <th>4607</th>\n",
       "      <td>2020-01-04 04:46:00</td>\n",
       "      <td>9929.0</td>\n",
       "      <td>1949.0</td>\n",
       "      <td>7829</td>\n",
       "      <td>2020-01-04</td>\n",
       "    </tr>\n",
       "    <tr>\n",
       "      <th>4608</th>\n",
       "      <td>2020-01-04 04:47:00</td>\n",
       "      <td>4255.0</td>\n",
       "      <td>8588.0</td>\n",
       "      <td>9082</td>\n",
       "      <td>2020-01-04</td>\n",
       "    </tr>\n",
       "    <tr>\n",
       "      <th>4609</th>\n",
       "      <td>2020-01-04 04:48:00</td>\n",
       "      <td>5389.0</td>\n",
       "      <td>7854.0</td>\n",
       "      <td>807</td>\n",
       "      <td>2020-01-04</td>\n",
       "    </tr>\n",
       "    <tr>\n",
       "      <th>4610</th>\n",
       "      <td>2020-01-04 04:49:00</td>\n",
       "      <td>4666.0</td>\n",
       "      <td>4751.0</td>\n",
       "      <td>9372</td>\n",
       "      <td>2020-01-04</td>\n",
       "    </tr>\n",
       "    <tr>\n",
       "      <th>4611</th>\n",
       "      <td>2020-01-04 04:50:00</td>\n",
       "      <td>2427.0</td>\n",
       "      <td>3120.0</td>\n",
       "      <td>226</td>\n",
       "      <td>2020-01-04</td>\n",
       "    </tr>\n",
       "  </tbody>\n",
       "</table>\n",
       "<p>4612 rows × 5 columns</p>\n",
       "</div>"
      ],
      "text/plain": [
       "                    time  power_turbine1  power_turbine2  power_turbine3  \\\n",
       "0    2020-01-01 00:01:00          7390.0          1592.0            5751   \n",
       "1    2020-01-01 00:02:00         10000.0          5942.0             649   \n",
       "2    2020-01-01 00:03:00          1116.0          9414.0            4224   \n",
       "3    2020-01-01 00:04:00          3301.0          5291.0            5558   \n",
       "4    2020-01-01 00:05:00          9086.0          3830.0            8564   \n",
       "...                  ...             ...             ...             ...   \n",
       "4607 2020-01-04 04:46:00          9929.0          1949.0            7829   \n",
       "4608 2020-01-04 04:47:00          4255.0          8588.0            9082   \n",
       "4609 2020-01-04 04:48:00          5389.0          7854.0             807   \n",
       "4610 2020-01-04 04:49:00          4666.0          4751.0            9372   \n",
       "4611 2020-01-04 04:50:00          2427.0          3120.0             226   \n",
       "\n",
       "            Date  \n",
       "0     2020-01-01  \n",
       "1     2020-01-01  \n",
       "2     2020-01-01  \n",
       "3     2020-01-01  \n",
       "4     2020-01-01  \n",
       "...          ...  \n",
       "4607  2020-01-04  \n",
       "4608  2020-01-04  \n",
       "4609  2020-01-04  \n",
       "4610  2020-01-04  \n",
       "4611  2020-01-04  \n",
       "\n",
       "[4612 rows x 5 columns]"
      ]
     },
     "execution_count": 51,
     "metadata": {},
     "output_type": "execute_result"
    }
   ],
   "source": [
    "df_data"
   ]
  },
  {
   "cell_type": "code",
   "execution_count": 54,
   "id": "74dc5676",
   "metadata": {},
   "outputs": [],
   "source": [
    "dff=df_data.resample('10Min',on='time').sum()"
   ]
  },
  {
   "cell_type": "code",
   "execution_count": 58,
   "id": "77a50b49",
   "metadata": {},
   "outputs": [],
   "source": [
    "dff.reset_index(inplace=True)"
   ]
  },
  {
   "cell_type": "code",
   "execution_count": 63,
   "id": "15734d2d",
   "metadata": {},
   "outputs": [],
   "source": [
    "powe=[]\n",
    "for i in range(len(dff)):\n",
    "    powe.append({'time':dff['time'][i],'farmpower':dff['power_turbine1'][i]+dff['power_turbine2'][i]+dff['power_turbine3'][i]})"
   ]
  },
  {
   "cell_type": "code",
   "execution_count": 65,
   "id": "50901b96",
   "metadata": {},
   "outputs": [],
   "source": [
    "powe=pd.DataFrame(powe)"
   ]
  },
  {
   "cell_type": "code",
   "execution_count": 66,
   "id": "d4a17204",
   "metadata": {},
   "outputs": [],
   "source": [
    "powe.to_excel(r'K:\\DATASETS\\farm_Turbinepowerdata_10mins.xlsx',index=False)"
   ]
  },
  {
   "cell_type": "code",
   "execution_count": null,
   "id": "5fb482f4",
   "metadata": {},
   "outputs": [],
   "source": []
  }
 ],
 "metadata": {
  "kernelspec": {
   "display_name": "Python 3",
   "language": "python",
   "name": "python3"
  },
  "language_info": {
   "codemirror_mode": {
    "name": "ipython",
    "version": 3
   },
   "file_extension": ".py",
   "mimetype": "text/x-python",
   "name": "python",
   "nbconvert_exporter": "python",
   "pygments_lexer": "ipython3",
   "version": "3.8.8"
  }
 },
 "nbformat": 4,
 "nbformat_minor": 5
}
